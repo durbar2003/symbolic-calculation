{
 "cells": [
  {
   "cell_type": "code",
   "execution_count": null,
   "id": "48f33e3b",
   "metadata": {},
   "outputs": [
    {
     "name": "stdout",
     "output_type": "stream",
     "text": [
      "Epoch: 0 Loss: 159.31163024902344\n"
     ]
    }
   ],
   "source": [
    "import torch\n",
    "import torch.nn as nn\n",
    "import torch.optim as optim\n",
    "import numpy as np\n",
    "import math\n",
    "\n",
    "# Define the Taylor series of sin(x) up to the 5th order\n",
    "def taylor_sin(x):\n",
    "    return x - (x ** 3)/math.factorial(3) + (x ** 5)/math.factorial(5)\n",
    "\n",
    "# Generate training data\n",
    "x_train = np.arange(-2*math.pi, 2*math.pi, 0.1)\n",
    "y_train = taylor_sin(x_train)\n",
    "\n",
    "# Define the transformer model architecture\n",
    "class TransformerModel(nn.Module):\n",
    "    def __init__(self, d_model, nhead, num_layers):\n",
    "        super(TransformerModel, self).__init__()\n",
    "        self.pos_encoder = nn.Linear(1, d_model)\n",
    "        encoder_layers = nn.TransformerEncoderLayer(d_model, nhead)\n",
    "        self.transformer_encoder = nn.TransformerEncoder(encoder_layers, num_layers)\n",
    "        self.decoder = nn.Linear(d_model, 1)\n",
    "        \n",
    "    def forward(self, src):\n",
    "        src = self.pos_encoder(src)\n",
    "        output = self.transformer_encoder(src)\n",
    "        output = self.decoder(output)\n",
    "        return output\n",
    "\n",
    "# Instantiate the transformer model\n",
    "model = TransformerModel(d_model=128, nhead=4, num_layers=4)\n",
    "\n",
    "# Define the loss function and optimizer\n",
    "criterion = nn.MSELoss()\n",
    "optimizer = optim.Adam(model.parameters())\n",
    "\n",
    "# Train the model\n",
    "for epoch in range(5000):\n",
    "    optimizer.zero_grad()\n",
    "    x_batch = torch.tensor(x_train).unsqueeze(1)\n",
    "    y_batch = torch.tensor(y_train).unsqueeze(1)\n",
    "    y_pred = model(x_batch.float())\n",
    "    loss = criterion(y_pred, y_batch.float())\n",
    "    loss.backward()\n",
    "    optimizer.step()\n",
    "    if epoch % 1000 == 0:\n",
    "        print('Epoch:', epoch, 'Loss:', loss.item())\n",
    "\n",
    "# Evaluate the model on new data\n",
    "x_test = np.arange(-math.pi, math.pi, 0.1)\n",
    "y_test = taylor_sin(x_test)\n",
    "x_test = torch.tensor(x_test).unsqueeze(1)\n",
    "y_test = torch.tensor(y_test).unsqueeze(1)\n",
    "y_pred = model(x_test.float())\n",
    "mse = criterion(y_pred, y_test.float())\n",
    "print('MSE:', mse.item())\n",
    "\n",
    "# Convert the results to numpy arrays for plotting\n",
    "x_test = x_test.detach().numpy()\n",
    "y_test = y_test.detach().numpy()\n",
    "y_pred = y_pred.detach().numpy()\n",
    "\n",
    "# Plot the results\n",
    "import matplotlib.pyplot as plt\n",
    "plt.plot(x_test.squeeze(), y_test.squeeze(), label='Actual')\n",
    "plt.plot(x_test.squeeze(), y_pred.squeeze(), label='Predicted')\n",
    "plt.legend()\n",
    "plt.show()\n"
   ]
  },
  {
   "cell_type": "code",
   "execution_count": null,
   "id": "6e9ea83b",
   "metadata": {},
   "outputs": [],
   "source": []
  }
 ],
 "metadata": {
  "kernelspec": {
   "display_name": "Python 3 (ipykernel)",
   "language": "python",
   "name": "python3"
  },
  "language_info": {
   "codemirror_mode": {
    "name": "ipython",
    "version": 3
   },
   "file_extension": ".py",
   "mimetype": "text/x-python",
   "name": "python",
   "nbconvert_exporter": "python",
   "pygments_lexer": "ipython3",
   "version": "3.9.13"
  }
 },
 "nbformat": 4,
 "nbformat_minor": 5
}
