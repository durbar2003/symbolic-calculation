{
 "cells": [
  {
   "cell_type": "code",
   "execution_count": 6,
   "id": "0cbf9707",
   "metadata": {},
   "outputs": [
    {
     "name": "stdout",
     "output_type": "stream",
     "text": [
      "[(array(['cos(x)'], dtype='<U6'), array(['x^4/24-x^2/2+1'], dtype='<U14')), (array(['sin(x)'], dtype='<U6'), array(['-x^3/6+x'], dtype='<U8')), (array(['exp(x)'], dtype='<U6'), array(['x^4/24+x^3/6+x^2/2+x+1'], dtype='<U22'))]\n"
     ]
    }
   ],
   "source": [
    "from sympy import symbols, diff, cos, sin, exp\n",
    "import numpy as np\n",
    "\n",
    "# Define symbols for x and the variables for the derivatives\n",
    "x = symbols('x')\n",
    "x0 = symbols('x0')\n",
    "h = symbols('h')\n",
    "f = symbols('f')\n",
    "\n",
    "# Define the functions to be used in the dataset\n",
    "functions = [cos(x), sin(x), exp(x)]\n",
    "\n",
    "# Define the order of the Taylor expansion\n",
    "order = 4\n",
    "\n",
    "# Generate the dataset\n",
    "dataset = []\n",
    "for func in functions:\n",
    "    # Calculate the Taylor expansion up to the specified order\n",
    "    taylor_expansion = func.series(x, x0, n=order+1).removeO().subs(x0, 0)\n",
    "    \n",
    "    # Tokenize the function and its Taylor expansion\n",
    "    function_tokens = np.array(str(func).replace(' ', '').replace('**', '^').split(' '))\n",
    "    taylor_tokens = np.array(str(taylor_expansion).replace(' ', '').replace('**', '^').split(' '))\n",
    "    \n",
    "    # Append the function and its Taylor expansion to the dataset\n",
    "    dataset.append((function_tokens, taylor_tokens))\n",
    "\n",
    "# Print the generated dataset\n",
    "print(dataset)\n"
   ]
  }
 ],
 "metadata": {
  "kernelspec": {
   "display_name": "Python 3 (ipykernel)",
   "language": "python",
   "name": "python3"
  },
  "language_info": {
   "codemirror_mode": {
    "name": "ipython",
    "version": 3
   },
   "file_extension": ".py",
   "mimetype": "text/x-python",
   "name": "python",
   "nbconvert_exporter": "python",
   "pygments_lexer": "ipython3",
   "version": "3.9.13"
  }
 },
 "nbformat": 4,
 "nbformat_minor": 5
}
